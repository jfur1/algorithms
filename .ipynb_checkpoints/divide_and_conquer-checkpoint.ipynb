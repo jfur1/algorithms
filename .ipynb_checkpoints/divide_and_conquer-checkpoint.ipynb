{
 "cells": [
  {
   "cell_type": "markdown",
   "metadata": {},
   "source": [
    "# Divide and Conquer Algorithms\n",
    "\n",
    "### This technique can be divided into the following three parts:\n",
    "\n",
    "> 1. **Divide**: This involves dividing the problem into some sub problem.\n",
    "> 2. **Conquer**: Sub problem by calling recursively until sub problem solved.\n",
    "> 3. **Combine**: The Sub problem Solved so that we will get find problem solution."
   ]
  },
  {
   "cell_type": "markdown",
   "metadata": {},
   "source": [
    "### 1. Merge Sort\n",
    "\n",
    "Merge sort is useful for sorting linked lists in $O(nlogn)$ time, since linked list nodes do not need to be adjacent in memory. In this case, we can also insert into the middle in $O(1)$ time and $O(1)$ space."
   ]
  },
  {
   "cell_type": "code",
   "execution_count": 11,
   "metadata": {},
   "outputs": [],
   "source": [
    "def merge_sort(values): \n",
    "    if len(values) > 1:\n",
    "        mid = len(values)//2\n",
    "        L = values[:mid]\n",
    "        R = values[mid:]\n",
    "        \n",
    "        i = j = k = 0\n",
    "        \n",
    "        merge_sort(L)\n",
    "        merge_sort(R)\n",
    "        \n",
    "        # Copy the data into temp arrays L & R    \n",
    "        while i < len(L) and j < len(R):\n",
    "            if L[i] < R[j]:\n",
    "                values[k] = L[i]\n",
    "                i += 1\n",
    "            else:\n",
    "                values[k] = R[j]\n",
    "                j += 1\n",
    "            k += 1\n",
    "\n",
    "        # Check if any elements were left over (one half finished first)\n",
    "        while i < len(L):\n",
    "            values[k] = L[i]\n",
    "            i += 1\n",
    "            k += 1\n",
    "        while j < len(R):\n",
    "            values[k] = R[j]\n",
    "            j += 1\n",
    "            k += 1\n",
    "            \n",
    "        return values"
   ]
  },
  {
   "cell_type": "code",
   "execution_count": 17,
   "metadata": {},
   "outputs": [
    {
     "name": "stdout",
     "output_type": "stream",
     "text": [
      "Sorted Array: [1, 2, 3, 4, 5, 6, 7, 8]\n"
     ]
    }
   ],
   "source": [
    "vals = [2, 4, 1, 6, 8, 5, 3, 7]\n",
    "print('Sorted Array:', merge_sort(vals))"
   ]
  },
  {
   "cell_type": "markdown",
   "metadata": {},
   "source": [
    "#### 1.a Time Complexity\n",
    "> The time complexity of Merge Sort is $\\Theta (nlogn)$ (for average, worst, and best cases) since the algorithm always divides the array into halves, and takes linear time to merge two halves."
   ]
  },
  {
   "cell_type": "markdown",
   "metadata": {},
   "source": [
    "#### 1.b) Space Complexity\n",
    "\n",
    "> The auxilary space required for merge sort is $O(n)$."
   ]
  },
  {
   "cell_type": "markdown",
   "metadata": {},
   "source": [
    "### 2. Quick Sort\n",
    "\n",
    "#### The algorithm picks an element as a pivot, then partitions the array around that pivot. There are multiple versions of quick sort that pick the pivot in different ways:\n",
    "\n",
    "> 1. Always choose the first element as the pivot\n",
    "> 2. Always choose the last element as the pivot\n",
    "> 3. Choose the pivot randomly\n",
    "> 4. Always choose the median as the pivot\n",
    "\n",
    "The key to quicksort is the partition function. Given an array and a pivot element $x$ in the array, put all elements smaller than $x$ before $x$, and all elements greater than $x$ after $x$. This should ideally be done in linear time.\n",
    "\n",
    "##### Advantages:\n",
    "- Requires less auxilary space than merge sort\n",
    "    - In-place -- no copies of the array are created\n",
    "- Can be further improved by using random pivot\n",
    "\n",
    "##### Disadvantages: \n",
    "- Worst case time complexity: $O(n^2)$\n",
    "    - Unstable algorithm"
   ]
  },
  {
   "cell_type": "markdown",
   "metadata": {},
   "source": [
    "#### 2.a)  Choose the first element as the pivot"
   ]
  },
  {
   "cell_type": "code",
   "execution_count": 75,
   "metadata": {},
   "outputs": [],
   "source": [
    "def partition_1(arr, low, high):\n",
    "    i = low+1\n",
    "    pivot = arr[low]\n",
    "    \n",
    "    for j in range(low+1, high+1):\n",
    "        if arr[j] <= pivot:\n",
    "            # Increment index of smaller element then swap elements\n",
    "            arr[i], arr[j] = arr[j], arr[i]\n",
    "            i += 1\n",
    "    arr[low], arr[i-1] = arr[i-1], arr[low]\n",
    "    return i-1\n",
    "\n",
    "def quick_sort_1(arr, low, high):\n",
    "    if low < high:\n",
    "        p_idx = partition_1(arr, low, high)\n",
    "        \n",
    "        quick_sort_1(arr, low, p_idx-1)\n",
    "        quick_sort_1(arr, p_idx+1, high)\n",
    "    return arr"
   ]
  },
  {
   "cell_type": "code",
   "execution_count": 76,
   "metadata": {},
   "outputs": [
    {
     "name": "stdout",
     "output_type": "stream",
     "text": [
      "Sorted Array: [1, 2, 3, 4, 5, 6, 7, 8]\n"
     ]
    }
   ],
   "source": [
    "# Driver Code:\n",
    "vals = [2, 4, 1, 6, 8, 5, 3, 7]\n",
    "n = len(vals)\n",
    "print('Sorted Array:', quick_sort_1(vals, 0, n-1))"
   ]
  },
  {
   "cell_type": "markdown",
   "metadata": {},
   "source": [
    "#### 2.b) Choose the last element as the pivot"
   ]
  },
  {
   "cell_type": "code",
   "execution_count": 19,
   "metadata": {},
   "outputs": [],
   "source": [
    "def partition_2(arr, low, high):\n",
    "    # Index of the smaller element\n",
    "    i = low - 1\n",
    "    pivot = arr[high]\n",
    "    \n",
    "    for j in range(low, high):\n",
    "        # If the current element is less than or equal to the pivot\n",
    "        if arr[j] <= pivot:\n",
    "            \n",
    "            # Increment the index of the smaller element\n",
    "            i += 1\n",
    "            # Swap the elements\n",
    "            arr[i], arr[j] = arr[j], arr[i]\n",
    "    arr[i+1], arr[high] = arr[high], arr[i+1]\n",
    "    return i+1\n",
    "\n",
    "def quick_sort_2(arr, low, high):\n",
    "    if low < high:\n",
    "        # Partition index\n",
    "        p_idx = partition_2(arr, low, high)\n",
    "        \n",
    "        # Sort the left half, then the right half\n",
    "        quick_sort_2(arr, low, p_idx-1)\n",
    "        quick_sort_2(arr, p_idx+1, high)\n",
    "    return arr"
   ]
  },
  {
   "cell_type": "code",
   "execution_count": 81,
   "metadata": {},
   "outputs": [
    {
     "name": "stdout",
     "output_type": "stream",
     "text": [
      "Sorted Array: [1, 2, 3, 4, 5, 6, 7, 8]\n"
     ]
    }
   ],
   "source": [
    "# Driver Code:\n",
    "vals = [2, 4, 1, 6, 8, 5, 3, 7]\n",
    "n = len(vals)\n",
    "print('Sorted Array:', quick_sort_2(vals, 0, n-1))"
   ]
  },
  {
   "cell_type": "markdown",
   "metadata": {},
   "source": [
    "#### 2.c) Choose the pivot randomly\n",
    "\n",
    "Random quick sort improves the algorithm for the case where the array is already sorted; however, there is still a possibility that the pivot chosen is an extreme.\n",
    "- Minimizes the chance of taking $O(n^2)$ time."
   ]
  },
  {
   "cell_type": "code",
   "execution_count": 104,
   "metadata": {},
   "outputs": [],
   "source": [
    "import random\n",
    "\n",
    "# The function generates a random pivot, then swaps the pivot with the first element\n",
    "# and calls the partition function.\n",
    "def random_pivot(arr, low, high):\n",
    "    # Generate a random number between start and end indicies\n",
    "    rand_p = random.randrange(low, high)\n",
    "    # Swap the first element with the random pivot\n",
    "    arr[low], arr[rand_p] = arr[rand_p], arr[low]\n",
    "    return partition_3(arr, low, high)\n",
    "\n",
    "# Function takes the first element as pivot and executes in the same fashion as 2.a \n",
    "# pivot as first element, where the pivot has been randomly selected\n",
    "def partition_3(arr, low, high):\n",
    "    pivot = arr[low]\n",
    "    i = low + 1\n",
    "    for j in range(low+1, high+1):\n",
    "        if arr[j] <= pivot:\n",
    "            arr[i], arr[j] = arr[j], arr[i]\n",
    "            i += 1\n",
    "    arr[low], arr[i-1] = arr[i-1], arr[low]\n",
    "    return i-1\n",
    "    \n",
    "def quick_sort_3(arr, low, high):\n",
    "    if low < high:\n",
    "        p_idx = random_pivot(arr, low, high)\n",
    "        quick_sort_3(arr, low, p_idx-1)\n",
    "        quick_sort_3(arr, p_idx+1, high)\n",
    "    return arr"
   ]
  },
  {
   "cell_type": "code",
   "execution_count": 105,
   "metadata": {},
   "outputs": [
    {
     "name": "stdout",
     "output_type": "stream",
     "text": [
      "Sorted Array: [1, 2, 3, 4, 5, 6, 7, 8]\n"
     ]
    }
   ],
   "source": [
    "# Driver Code:\n",
    "vals = [2, 4, 1, 6, 8, 5, 3, 7]\n",
    "n = len(vals)\n",
    "print('Sorted Array:', quick_sort_3(vals, 0, n-1))"
   ]
  },
  {
   "cell_type": "markdown",
   "metadata": {},
   "source": [
    "#### 2.d) Choose the Median as a pivot\n",
    "\n",
    "- The worst case time complexity of quick sort is typically $O(n^2)$. The worst case occurs when the pivot is either the smallest or the largest element. \n",
    "- We can achieve $O(nlogn)$ in the worst case by using the median element as the pivot\n",
    "    - This comes from the fact that the median element in an unsorted array can be found in linear time."
   ]
  },
  {
   "cell_type": "code",
   "execution_count": 170,
   "metadata": {},
   "outputs": [],
   "source": [
    "# Function returns the median value between three numbers\n",
    "def median_of_three(arr, low, high):\n",
    "    mid = (low+high)//2\n",
    "    a = arr[low]\n",
    "    b = arr[mid]\n",
    "    c = arr[high]\n",
    "    if (a-b) * (c-a) >= 0:\n",
    "        return low\n",
    "    elif (b-a) * (c-b) >= 0:\n",
    "        return mid\n",
    "    else:\n",
    "        return high\n",
    "\n",
    "# Same as partition with pivot as first element\n",
    "def partition_4(arr, low, high):\n",
    "    # Find the median value as the pivot\n",
    "    median_index = median_of_three(arr, low, high)\n",
    "    # Swap the pivot with the first element\n",
    "    arr[low], arr[median_index] = arr[median_index], arr[low]\n",
    "    pivot = arr[low]\n",
    "    i = low + 1\n",
    "    for j in range(low+1, high+1):\n",
    "        if arr[j] <= pivot:\n",
    "            arr[i], arr[j] = arr[j], arr[i]\n",
    "            i+=1\n",
    "    arr[low], arr[i-1] = arr[i-1], arr[low]\n",
    "    return i-1\n",
    "\n",
    "def quick_sort_4(arr, low, high):\n",
    "    if low < high:\n",
    "        p_idx = partition_4(arr, low, high)\n",
    "        quick_sort_4(arr, low, p_idx-1)\n",
    "        quick_sort_4(arr, p_idx+1, high)\n",
    "    return arr"
   ]
  },
  {
   "cell_type": "code",
   "execution_count": 171,
   "metadata": {},
   "outputs": [
    {
     "name": "stdout",
     "output_type": "stream",
     "text": [
      "Sorted Array: [1, 2, 3, 4, 5, 6, 7, 8]\n"
     ]
    }
   ],
   "source": [
    "# Driver Code:\n",
    "vals = [2, 4, 1, 6, 8, 5, 3, 7]\n",
    "n = len(vals)\n",
    "print('Sorted Array:', quick_sort_4(vals, 0, n-1))"
   ]
  },
  {
   "cell_type": "markdown",
   "metadata": {},
   "source": [
    "#### 2.f) Time Complexity\n",
    "\n",
    "**Worst Case: $O(n^2)$**\n",
    "- Occurs when the selected pivot is an extreme value in the array.\n",
    "\n",
    "**Average Case: $O(nlogn)$**\n",
    ">  $T(n) = T(n/9) + T(9n/10) + \\theta(n)$\n",
    "\n",
    "Solving this recurrence gives us an average time complexity of $O(nlogn)$\n",
    "\n",
    "**Best Case: $O(nlogn)$**\n",
    "- Occurs when partition funciton always selects the median element as the pivot."
   ]
  }
 ],
 "metadata": {
  "kernelspec": {
   "display_name": "Python 3",
   "language": "python",
   "name": "python3"
  },
  "language_info": {
   "codemirror_mode": {
    "name": "ipython",
    "version": 3
   },
   "file_extension": ".py",
   "mimetype": "text/x-python",
   "name": "python",
   "nbconvert_exporter": "python",
   "pygments_lexer": "ipython3",
   "version": "3.7.3"
  }
 },
 "nbformat": 4,
 "nbformat_minor": 2
}
