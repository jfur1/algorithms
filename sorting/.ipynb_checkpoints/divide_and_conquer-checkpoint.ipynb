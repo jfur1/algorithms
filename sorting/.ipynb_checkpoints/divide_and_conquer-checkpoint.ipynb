{
 "cells": [
  {
   "cell_type": "markdown",
   "metadata": {},
   "source": [
    "# Divide and Conquer Algorithms\n",
    "\n",
    "### This technique can be divided into the following three parts:\n",
    "\n",
    "> 1. **Divide**: This involves dividing the problem into some sub problem.\n",
    "> 2. **Conquer**: Sub problem by calling recursively until sub problem solved.\n",
    "> 3. **Combine**: The Sub problem Solved so that we will get find problem solution."
   ]
  },
  {
   "cell_type": "markdown",
   "metadata": {},
   "source": [
    "### 1. Merge Sort\n"
   ]
  },
  {
   "cell_type": "code",
   "execution_count": 21,
   "metadata": {},
   "outputs": [],
   "source": [
    "def merge_sort(values): \n",
    "    if len(values) > 1:\n",
    "        mid = len(values)//2\n",
    "        L = values[:mid]\n",
    "        R = values[mid:]\n",
    "        \n",
    "        i = j = k = 0\n",
    "        \n",
    "        merge_sort(L)\n",
    "        merge_sort(R)\n",
    "        \n",
    "        # Copy the data into temp arrays L & R    \n",
    "        while i < len(L) and j < len(R):\n",
    "            if L[i] < R[j]:\n",
    "                values[k] = L[i]\n",
    "                i += 1\n",
    "            else:\n",
    "                values[k] = R[j]\n",
    "                j += 1\n",
    "            k += 1\n",
    "\n",
    "        # Check if any elements were left over (one half finished first)\n",
    "        while i < len(L):\n",
    "            values[k] = L[i]\n",
    "            i += 1\n",
    "            k += 1\n",
    "        while j < len(R):\n",
    "            values[k] = R[j]\n",
    "            j += 1\n",
    "            k += 1\n",
    "            \n",
    "        return values"
   ]
  },
  {
   "cell_type": "code",
   "execution_count": 22,
   "metadata": {},
   "outputs": [
    {
     "data": {
      "text/plain": [
       "[1, 2, 3, 4, 5, 6, 7, 8]"
      ]
     },
     "execution_count": 22,
     "metadata": {},
     "output_type": "execute_result"
    }
   ],
   "source": [
    "vals = [2, 4, 1, 6, 8, 5, 3, 7]\n",
    "merge_sort(vals)"
   ]
  },
  {
   "cell_type": "markdown",
   "metadata": {},
   "source": [
    "#### 1.a Time Complexity\n",
    "> The time complexity of Merge Sort is $\\Theta (nlogn)$ since the algorithm always divides the array into halves, and takes linear time to merge two halves."
   ]
  },
  {
   "cell_type": "markdown",
   "metadata": {},
   "source": [
    "### 2. Quick Sort\n",
    "\n",
    "#### The algorithm picks an element as a pivot, then partitions the array around that pivot. There are multiple versions of quick sort that pick the pivot in different ways:\n",
    "\n",
    "> 1. Always choose the first element as the pivot\n",
    "> 2. Always choose the last element as the pivot\n",
    "> 3. Choose the pivot randomly\n",
    "> 4. Always choose the median as the pivot"
   ]
  },
  {
   "cell_type": "code",
   "execution_count": 24,
   "metadata": {},
   "outputs": [],
   "source": [
    "def quick_sort(values):\n",
    "    pass"
   ]
  },
  {
   "cell_type": "code",
   "execution_count": null,
   "metadata": {},
   "outputs": [],
   "source": []
  }
 ],
 "metadata": {
  "kernelspec": {
   "display_name": "Python 3",
   "language": "python",
   "name": "python3"
  },
  "language_info": {
   "codemirror_mode": {
    "name": "ipython",
    "version": 3
   },
   "file_extension": ".py",
   "mimetype": "text/x-python",
   "name": "python",
   "nbconvert_exporter": "python",
   "pygments_lexer": "ipython3",
   "version": "3.7.3"
  }
 },
 "nbformat": 4,
 "nbformat_minor": 2
}
